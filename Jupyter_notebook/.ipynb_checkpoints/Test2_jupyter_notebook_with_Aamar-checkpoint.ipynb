{
 "cells": [
  {
   "cell_type": "markdown",
   "id": "de7b2df9",
   "metadata": {},
   "source": [
    "# Python ka chilla with baba aammar\n",
    "## How to use jupyter note book\n",
    "### Basics of python"
   ]
  },
  {
   "cell_type": "markdown",
   "id": "7307936a",
   "metadata": {},
   "source": [
    "### **01A_1.1_First line code** ###"
   ]
  },
  {
   "cell_type": "code",
   "execution_count": 1,
   "id": "5d787a2b",
   "metadata": {
    "scrolled": true
   },
   "outputs": [
    {
     "name": "stdout",
     "output_type": "stream",
     "text": [
      "5\n",
      "hellow world\n",
      "we are learning python with ammar\n",
      "5\n",
      "Allah, Muhammad SAW\n"
     ]
    }
   ],
   "source": [
    "print(2+3)\n",
    "print(\"hellow world\")\n",
    "print(\"we are learning python with ammar\")\n",
    "print(2+3)\n",
    "print(\"Allah, Muhammad SAW\")"
   ]
  },
  {
   "cell_type": "markdown",
   "id": "0e792abd",
   "metadata": {},
   "source": [
    "### 02A_2.2_Operators ###"
   ]
  },
  {
   "cell_type": "code",
   "execution_count": 2,
   "id": "caaea242",
   "metadata": {},
   "outputs": [
    {
     "name": "stdout",
     "output_type": "stream",
     "text": [
      "3\n",
      "2\n",
      "3.0\n",
      "6\n",
      "1\n",
      "3\n",
      "8\n",
      "6.5\n",
      "27\n"
     ]
    }
   ],
   "source": [
    "print(2+1)\n",
    "print(3-1)\n",
    "print(6/2)\n",
    "print(2*3)\n",
    "print(13%2)\n",
    "print(6//2)\n",
    "print(2**3)\n",
    "print(3**2/2*3/3+6-4) \n",
    "print(3**3)"
   ]
  },
  {
   "cell_type": "markdown",
   "id": "90590d75",
   "metadata": {},
   "source": [
    "***PEMDAS\n",
    "Paranthesis, Exponents, Multiply, Divide, addition, substraction\n",
    "sequence for multiplication, division, addition and substraction will be from left to right\n",
    "double star is used for power***"
   ]
  },
  {
   "cell_type": "markdown",
   "id": "3304c774",
   "metadata": {},
   "source": [
    "### 03A_2.3_Strings ###"
   ]
  },
  {
   "cell_type": "code",
   "execution_count": 3,
   "id": "5201da93",
   "metadata": {},
   "outputs": [
    {
     "name": "stdout",
     "output_type": "stream",
     "text": [
      "Hellow world\n",
      "we are learning with ammar\n",
      "Test for single quotes\n",
      "test for double quotes\n",
      "test for tripple quotes\n",
      "what's up?\n"
     ]
    }
   ],
   "source": [
    "print(\"Hellow world\")\n",
    "print(\"we are learning with ammar\")\n",
    "print('Test for single quotes')\n",
    "print(\"test for double quotes\")\n",
    "print('''test for tripple quotes''')\n",
    "print(\"what's up?\")"
   ]
  },
  {
   "cell_type": "markdown",
   "id": "6ba1ef0c",
   "metadata": {},
   "source": [
    "### 04A_2.4_Comments (cntrl+/) ###"
   ]
  },
  {
   "cell_type": "code",
   "execution_count": 4,
   "id": "45fea0d3",
   "metadata": {},
   "outputs": [
    {
     "name": "stdout",
     "output_type": "stream",
     "text": [
      "how are you?\n",
      "We are learning with Ammar\n",
      "5\n"
     ]
    }
   ],
   "source": [
    "print(\"how are you?\")                # make it coment, (ctrl+/)\n",
    "print(\"We are learning with Ammar\")  # print the string\n",
    "print(2+3)                           # run the operator with addition"
   ]
  },
  {
   "cell_type": "markdown",
   "id": "c06b2057",
   "metadata": {},
   "source": [
    "### 05A_2.5_Variables ###"
   ]
  },
  {
   "cell_type": "code",
   "execution_count": 5,
   "id": "87fe214b",
   "metadata": {},
   "outputs": [
    {
     "name": "stdout",
     "output_type": "stream",
     "text": [
      "5\n",
      "We are learning python with Ammar\n",
      "15\n"
     ]
    }
   ],
   "source": [
    "# #Variables: Objects containing specific values\n",
    "x= 5 # Numeric varible\n",
    "print(x)\n",
    "y= \"We are learning python with Ammar\" # string variable\n",
    "print(y)\n",
    "x=x+10 # or x=15\n",
    "print(x)"
   ]
  },
  {
   "cell_type": "markdown",
   "id": "c5e35a54",
   "metadata": {},
   "source": [
    "*Types/class of variables*"
   ]
  },
  {
   "cell_type": "code",
   "execution_count": 6,
   "id": "eed59375",
   "metadata": {},
   "outputs": [
    {
     "name": "stdout",
     "output_type": "stream",
     "text": [
      "<class 'int'>\n",
      "<class 'str'>\n",
      "mangoes\n",
      "<class 'str'>\n",
      "mangoes, oranges\n",
      "8\n",
      "<class 'int'>\n",
      "8\n"
     ]
    }
   ],
   "source": [
    "print(type(x))\n",
    "print(type(y))\n",
    "# further details\n",
    "fruit_baskit=\"mangoes\"\n",
    "print(fruit_baskit)\n",
    "#---\n",
    "fruit_baskit=\"mangoes, oranges\"\n",
    "print(type(fruit_baskit))\n",
    "print(fruit_baskit)\n",
    "# #---\n",
    "fruit_baskit=8\n",
    "print(fruit_baskit)\n",
    "print(type(fruit_baskit))\n",
    "print (fruit_baskit)"
   ]
  },
  {
   "cell_type": "markdown",
   "id": "d9dcb2c1",
   "metadata": {},
   "source": [
    "### 06A_2.6_Input function ###"
   ]
  },
  {
   "cell_type": "code",
   "execution_count": 7,
   "id": "c30d1912",
   "metadata": {},
   "outputs": [
    {
     "name": "stdout",
     "output_type": "stream",
     "text": [
      "what is your favourit? applles\n",
      "applles\n"
     ]
    }
   ],
   "source": [
    "#input funstion simple\n",
    "fruit_baskit=input(\"what is your favourit? \")\n",
    "print(fruit_baskit)"
   ]
  },
  {
   "cell_type": "markdown",
   "id": "5847b3dd",
   "metadata": {},
   "source": [
    "*input function 2nd stage*"
   ]
  },
  {
   "cell_type": "code",
   "execution_count": 8,
   "id": "a348f82f",
   "metadata": {
    "scrolled": true
   },
   "outputs": [
    {
     "name": "stdout",
     "output_type": "stream",
     "text": [
      "What is your name? zia\n",
      "Hello! zia\n",
      "what is your name? zia\n",
      "Hello! zia\n"
     ]
    }
   ],
   "source": [
    "name=input(\"What is your name? \") # The input function is used to ask some informatin from the user.\n",
    "greetings=\"Hello!\"\n",
    "print (greetings, name)\n",
    "\n",
    "#2nd way of \"input function 2nd stage\"\n",
    "name = input(\"what is your name? \")\n",
    "print (\"Hello!\", name)"
   ]
  },
  {
   "cell_type": "markdown",
   "id": "062c5f70",
   "metadata": {},
   "source": [
    "*3rd stage of input function*"
   ]
  },
  {
   "cell_type": "code",
   "execution_count": 9,
   "id": "c3911c7d",
   "metadata": {},
   "outputs": [
    {
     "name": "stdout",
     "output_type": "stream",
     "text": [
      "What is your name? zia\n",
      "How old are you? 23\n",
      "Hello dear zia , Amazing! you are still quite young\n"
     ]
    }
   ],
   "source": [
    "name=input(\"What is your name? \")\n",
    "age=input(\"How old are you? \")\n",
    "greetings= \"Hello dear\"\n",
    "print (greetings, name, \", Amazing! you are still quite young\")"
   ]
  },
  {
   "cell_type": "markdown",
   "id": "0a4ece67",
   "metadata": {},
   "source": [
    "### 07A_2.7_conditional logical operator ###"
   ]
  },
  {
   "cell_type": "markdown",
   "id": "143b4110",
   "metadata": {},
   "source": [
    "*comments*"
   ]
  },
  {
   "cell_type": "code",
   "execution_count": 10,
   "id": "c7c1d595",
   "metadata": {},
   "outputs": [],
   "source": [
    "#logical operators are either \"true or false\" or \"yes or no\" or \"0 or 1\"\n",
    "# equal to                     ==\n",
    "# not equal to                 !=\n",
    "# less than                    <\n",
    "# greater than                 >\n",
    "# less than and equal to       <=\n",
    "# greater than and equal to    >= "
   ]
  },
  {
   "cell_type": "markdown",
   "id": "cb62c682",
   "metadata": {},
   "source": [
    "*Is 4 equal to 4?*"
   ]
  },
  {
   "cell_type": "code",
   "execution_count": 11,
   "id": "69bc1b52",
   "metadata": {},
   "outputs": [
    {
     "name": "stdout",
     "output_type": "stream",
     "text": [
      "True\n",
      "False\n",
      "True\n",
      "True\n",
      "False\n",
      "True\n",
      "True\n"
     ]
    }
   ],
   "source": [
    "print (4==4)\n",
    "print (4!=4)\n",
    "print (4>3)\n",
    "print (3<4)\n",
    "print (3>6)\n",
    "print (3<=5)\n",
    "print (5>=4)"
   ]
  },
  {
   "cell_type": "markdown",
   "id": "35f8b10d",
   "metadata": {},
   "source": [
    "*application of logical operators*"
   ]
  },
  {
   "cell_type": "code",
   "execution_count": 12,
   "id": "7effbae8",
   "metadata": {},
   "outputs": [
    {
     "name": "stdout",
     "output_type": "stream",
     "text": [
      "True\n"
     ]
    }
   ],
   "source": [
    "hammad_age=6\n",
    "age_at_school=5\n",
    "print(hammad_age>=age_at_school)"
   ]
  },
  {
   "cell_type": "markdown",
   "id": "9b4973e2",
   "metadata": {},
   "source": [
    "*input function and logical operator*"
   ]
  },
  {
   "cell_type": "code",
   "execution_count": 13,
   "id": "dd343870",
   "metadata": {},
   "outputs": [
    {
     "name": "stdout",
     "output_type": "stream",
     "text": [
      "what is the age of applicant? 7\n",
      "<class 'str'>\n",
      "<class 'int'>\n",
      "False\n"
     ]
    }
   ],
   "source": [
    "age_at_school=5\n",
    "applicant_age = input (\"what is the age of applicant? \") # input function is used for asking some infomation\n",
    "# from user.\n",
    "print(type(applicant_age))\n",
    "applicant_age=int(applicant_age)\n",
    "print(type(applicant_age))\n",
    "print(applicant_age==age_at_school) #logical operator"
   ]
  },
  {
   "cell_type": "markdown",
   "id": "ae7164b6",
   "metadata": {},
   "source": [
    "### 08A_2.8_Types conversion ###"
   ]
  },
  {
   "cell_type": "code",
   "execution_count": 14,
   "id": "0616100e",
   "metadata": {},
   "outputs": [
    {
     "name": "stdout",
     "output_type": "stream",
     "text": [
      "<class 'int'>\n",
      "<class 'float'>\n",
      "<class 'str'>\n",
      "17.2 , Type of x : <class 'float'>\n"
     ]
    }
   ],
   "source": [
    "x=7                # int\n",
    "y=10.2             # float\n",
    "z=\"Hellow\"         # str\n",
    "print(type(x))\n",
    "print(type(y))\n",
    "print(type(z))\n",
    "\n",
    "# # implicit type conversion\n",
    "\n",
    "x=x+y\n",
    "print(x, \", Type of x :\", type(x))"
   ]
  },
  {
   "cell_type": "code",
   "execution_count": 15,
   "id": "97df6211",
   "metadata": {},
   "outputs": [
    {
     "name": "stdout",
     "output_type": "stream",
     "text": [
      "what is your age? 31\n",
      "31 <class 'str'>\n",
      "<class 'int'>\n"
     ]
    }
   ],
   "source": [
    "# explicit type conversion\n",
    "age=input(\"what is your age? \")\n",
    "print(age, type(age))\n",
    "age=int(age)\n",
    "print(type(int(age)))"
   ]
  },
  {
   "cell_type": "markdown",
   "id": "e7106cf5",
   "metadata": {},
   "source": [
    "### 09A_2.9_if, elsif, else ###"
   ]
  },
  {
   "cell_type": "code",
   "execution_count": 16,
   "id": "af8e184a",
   "metadata": {},
   "outputs": [
    {
     "name": "stdout",
     "output_type": "stream",
     "text": [
      "Not eligible, Recomended to join high school\n"
     ]
    }
   ],
   "source": [
    "applicant_age=6\n",
    "required_age_at_school=5\n",
    "if applicant_age==required_age_at_school:\n",
    "    print(\"Congratulation! Applicant eligible\")\n",
    "elif applicant_age>required_age_at_school:\n",
    "    print(\"Not eligible, Recomended to join high school\")\n",
    "elif applicant_age<=3:\n",
    "    print(\"not eligible, still baby\")\n",
    "else:\n",
    "    print(\"Not eligible\")"
   ]
  },
  {
   "cell_type": "markdown",
   "id": "00ac9778",
   "metadata": {},
   "source": [
    "*use input function to ask the age from user user*"
   ]
  },
  {
   "cell_type": "code",
   "execution_count": 17,
   "id": "af8de3ed",
   "metadata": {},
   "outputs": [
    {
     "name": "stdout",
     "output_type": "stream",
     "text": [
      "what is the age of the applicant? 4\n",
      "Not eligible\n"
     ]
    }
   ],
   "source": [
    "required_age_at_school=5\n",
    "applicant_age=input(\"what is the age of the applicant? \")\n",
    "applicant_age=int(applicant_age)\n",
    "\n",
    "# # question: Is hammad eligible for school admission\n",
    "\n",
    "if applicant_age==required_age_at_school:\n",
    "    print(\"Congratulation! Applicant eligible\")\n",
    "elif applicant_age>=6:\n",
    "    print(\"Not eligible, Recomended to join high school\")\n",
    "elif applicant_age<=3:\n",
    "    print(\"not eligible, still baby\")\n",
    "else:\n",
    "    print(\"Not eligible\")"
   ]
  },
  {
   "cell_type": "markdown",
   "id": "580be07e",
   "metadata": {},
   "source": [
    "### 10A_2.10_function define ###"
   ]
  },
  {
   "cell_type": "markdown",
   "id": "3db2274c",
   "metadata": {},
   "source": [
    "*defining a function 1st method*"
   ]
  },
  {
   "cell_type": "code",
   "execution_count": 18,
   "id": "7f41998c",
   "metadata": {},
   "outputs": [
    {
     "name": "stdout",
     "output_type": "stream",
     "text": [
      "Allah, Muhammad SAW\n",
      "Allah, Muhammad SAW\n",
      "Allah, Muhammad SAW\n"
     ]
    }
   ],
   "source": [
    "def print_codanic():\n",
    "    print(\"Allah, Muhammad SAW\")\n",
    "    print(\"Allah, Muhammad SAW\")\n",
    "    print(\"Allah, Muhammad SAW\")\n",
    "    \n",
    "print_codanic()"
   ]
  },
  {
   "cell_type": "markdown",
   "id": "bce91c68",
   "metadata": {},
   "source": [
    "*defining function 2nd method*"
   ]
  },
  {
   "cell_type": "code",
   "execution_count": 19,
   "id": "00ad8e30",
   "metadata": {},
   "outputs": [
    {
     "name": "stdout",
     "output_type": "stream",
     "text": [
      "Allah Raheem wa kareem, Muhammad SAW\n",
      "Allah Raheem wa kareem, Muhammad SAW\n",
      "Allah Raheem wa kareem, Muhammad SAW\n"
     ]
    }
   ],
   "source": [
    "def print_codanic():                                 # function is defined\n",
    "    text = \"Allah Raheem wa kareem, Muhammad SAW\"    # generate string variable named text\n",
    "    print(text)                                      # print function for printing call of text variable \n",
    "    print(text)\n",
    "    print(text)\n",
    "    \n",
    "print_codanic()"
   ]
  },
  {
   "cell_type": "markdown",
   "id": "2500c983",
   "metadata": {},
   "source": [
    "*3rd method*"
   ]
  },
  {
   "cell_type": "code",
   "execution_count": 20,
   "id": "8473313a",
   "metadata": {},
   "outputs": [
    {
     "name": "stdout",
     "output_type": "stream",
     "text": [
      "Allah Raheem wa kareem, Muhammad SAW\n",
      "Allah Raheem wa kareem, Muhammad SAW\n",
      "Allah Raheem wa kareem, Muhammad SAW\n"
     ]
    }
   ],
   "source": [
    "def print_codanic(text):\n",
    "    print(text)\n",
    "    print(text)\n",
    "    print(text)\n",
    "    \n",
    "print_codanic(\"Allah Raheem wa kareem, Muhammad SAW\")"
   ]
  },
  {
   "cell_type": "markdown",
   "id": "260d363f",
   "metadata": {},
   "source": [
    "*defining a function with if, elif and else statement*"
   ]
  },
  {
   "cell_type": "code",
   "execution_count": 21,
   "id": "e35147c2",
   "metadata": {
    "scrolled": true
   },
   "outputs": [
    {
     "name": "stdout",
     "output_type": "stream",
     "text": [
      "hammad still baby\n",
      "None\n"
     ]
    }
   ],
   "source": [
    "def school_calculator(age):\n",
    "    if age==5:\n",
    "        print(\"Hammad can join the school\")\n",
    "    elif age>5:\n",
    "        print(\"hammad should go to higher school\")\n",
    "    else:\n",
    "        print(\"hammad still baby\")\n",
    "    \n",
    "print(school_calculator(3))"
   ]
  },
  {
   "cell_type": "markdown",
   "id": "d34030d5",
   "metadata": {},
   "source": [
    "*defining a function of future*"
   ]
  },
  {
   "cell_type": "code",
   "execution_count": 22,
   "id": "b36e5e78",
   "metadata": {},
   "outputs": [
    {
     "name": "stdout",
     "output_type": "stream",
     "text": [
      "27\n"
     ]
    }
   ],
   "source": [
    "def future_age(age):\n",
    "    new_age=age+20\n",
    "    return(new_age)\n",
    "\n",
    "future_predicted_age=future_age(7)\n",
    "print(future_predicted_age)"
   ]
  },
  {
   "cell_type": "markdown",
   "id": "4aac5325",
   "metadata": {},
   "source": [
    "### 11A_2.11_Loops ###"
   ]
  },
  {
   "cell_type": "markdown",
   "id": "a210d8a7",
   "metadata": {},
   "source": [
    "**while and for loops**"
   ]
  },
  {
   "cell_type": "markdown",
   "id": "9e43b139",
   "metadata": {},
   "source": [
    "*while loops*"
   ]
  },
  {
   "cell_type": "code",
   "execution_count": 23,
   "id": "66bafb89",
   "metadata": {},
   "outputs": [
    {
     "name": "stdout",
     "output_type": "stream",
     "text": [
      "0\n",
      "1\n",
      "2\n",
      "3\n",
      "4\n"
     ]
    }
   ],
   "source": [
    "x=0\n",
    "while (x<5):\n",
    "    print(x)\n",
    "    x=x+1"
   ]
  },
  {
   "cell_type": "markdown",
   "id": "750c6d95",
   "metadata": {},
   "source": [
    "*for loop*"
   ]
  },
  {
   "cell_type": "code",
   "execution_count": 24,
   "id": "08da675a",
   "metadata": {},
   "outputs": [
    {
     "name": "stdout",
     "output_type": "stream",
     "text": [
      "2\n",
      "3\n",
      "4\n",
      "5\n",
      "6\n"
     ]
    }
   ],
   "source": [
    "for x in range (2,7):\n",
    "    print(x)"
   ]
  },
  {
   "cell_type": "markdown",
   "id": "45f13458",
   "metadata": {},
   "source": [
    "*array*"
   ]
  },
  {
   "cell_type": "code",
   "execution_count": 25,
   "id": "64510827",
   "metadata": {
    "scrolled": true
   },
   "outputs": [
    {
     "name": "stdout",
     "output_type": "stream",
     "text": [
      "monday\n",
      "tuesday\n",
      "wednesday\n",
      "thursday\n"
     ]
    }
   ],
   "source": [
    "days=[\"monday\", \"tuesday\", \"wednesday\",\"thursday\", \"friday\", \"saturday\"]\n",
    "for d in days:\n",
    "    if (d==\"friday\"): break\n",
    "\n",
    "    print(d)     \n"
   ]
  },
  {
   "cell_type": "code",
   "execution_count": 26,
   "id": "adfb15c2",
   "metadata": {},
   "outputs": [
    {
     "name": "stdout",
     "output_type": "stream",
     "text": [
      "monday\n",
      "tuesday\n",
      "thursday\n",
      "friday\n",
      "saturday\n"
     ]
    }
   ],
   "source": [
    "days=[\"monday\", \"tuesday\", \"wednesday\",\"thursday\", \"friday\", \"saturday\"]\n",
    "for d in days:\n",
    "    if (d==\"wednesday\"): continue\n",
    "        \n",
    "    print(d)"
   ]
  },
  {
   "cell_type": "markdown",
   "id": "122dc8cb",
   "metadata": {},
   "source": [
    "### 12A_2.12_import_liberary ###"
   ]
  },
  {
   "cell_type": "code",
   "execution_count": 27,
   "id": "1beeee82",
   "metadata": {},
   "outputs": [
    {
     "name": "stdout",
     "output_type": "stream",
     "text": [
      "The value of Pi: 3.141592653589793\n"
     ]
    }
   ],
   "source": [
    "# if I want to import the value of pi:\n",
    "import math\n",
    "print(\"The value of Pi:\", math.pi)\n"
   ]
  },
  {
   "cell_type": "code",
   "execution_count": 28,
   "id": "b45d3f75",
   "metadata": {},
   "outputs": [
    {
     "name": "stdout",
     "output_type": "stream",
     "text": [
      "the mean: 3.5\n"
     ]
    }
   ],
   "source": [
    "import statistics\n",
    "x=[2, 3, 4, 5]\n",
    "print(\"the mean:\", statistics.mean(x))"
   ]
  },
  {
   "cell_type": "markdown",
   "id": "07b8acf6",
   "metadata": {},
   "source": [
    "### 13A_2.13_trouble_shooting ###"
   ]
  },
  {
   "cell_type": "code",
   "execution_count": 29,
   "id": "ba3b205d",
   "metadata": {},
   "outputs": [],
   "source": [
    "#print(\"Allah\") syntax error\n",
    "\n",
    "# print(25/0) #runtime error (mathematical types of error)\n",
    "\n",
    "\n",
    "#name= \"zia\"\n",
    "# print(\"Hello \"+name) #symentic error (human error, most dfficult)"
   ]
  }
 ],
 "metadata": {
  "kernelspec": {
   "display_name": "Python 3 (ipykernel)",
   "language": "python",
   "name": "python3"
  },
  "language_info": {
   "codemirror_mode": {
    "name": "ipython",
    "version": 3
   },
   "file_extension": ".py",
   "mimetype": "text/x-python",
   "name": "python",
   "nbconvert_exporter": "python",
   "pygments_lexer": "ipython3",
   "version": "3.9.13"
  }
 },
 "nbformat": 4,
 "nbformat_minor": 5
}
