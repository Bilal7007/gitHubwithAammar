{
 "cells": [
  {
   "cell_type": "markdown",
   "id": "558f2e41",
   "metadata": {},
   "source": [
    "## Basic arthematic operations"
   ]
  },
  {
   "cell_type": "code",
   "execution_count": 1,
   "id": "b723c3e5",
   "metadata": {},
   "outputs": [
    {
     "data": {
      "text/plain": [
       "30"
      ]
     },
     "execution_count": 1,
     "metadata": {},
     "output_type": "execute_result"
    }
   ],
   "source": [
    "a=19 \n",
    "b= 11\n",
    "c= a+b\n",
    "c"
   ]
  },
  {
   "cell_type": "markdown",
   "id": "2fcd0335",
   "metadata": {},
   "source": [
    "## sum code"
   ]
  },
  {
   "cell_type": "code",
   "execution_count": 2,
   "id": "5bd28379",
   "metadata": {
    "scrolled": true
   },
   "outputs": [
    {
     "data": {
      "text/plain": [
       "31"
      ]
     },
     "execution_count": 2,
     "metadata": {},
     "output_type": "execute_result"
    }
   ],
   "source": [
    "a= 19\n",
    "b= 12\n",
    "c= a+b\n",
    "c"
   ]
  },
  {
   "cell_type": "code",
   "execution_count": 3,
   "id": "adfd3b53",
   "metadata": {},
   "outputs": [
    {
     "name": "stdout",
     "output_type": "stream",
     "text": [
      "ali\n"
     ]
    }
   ],
   "source": [
    "print (\"ali\")"
   ]
  },
  {
   "cell_type": "code",
   "execution_count": 1,
   "id": "1a418102",
   "metadata": {},
   "outputs": [
    {
     "name": "stdout",
     "output_type": "stream",
     "text": [
      "zia\n"
     ]
    }
   ],
   "source": [
    "print (\"zia\")"
   ]
  },
  {
   "cell_type": "code",
   "execution_count": 2,
   "id": "06df573b",
   "metadata": {},
   "outputs": [
    {
     "data": {
      "text/plain": [
       "5"
      ]
     },
     "execution_count": 2,
     "metadata": {},
     "output_type": "execute_result"
    }
   ],
   "source": [
    "a= 2\n",
    "b=3\n",
    "d=a+b\n",
    "d"
   ]
  },
  {
   "cell_type": "code",
   "execution_count": 1,
   "id": "93d4a161",
   "metadata": {},
   "outputs": [
    {
     "data": {
      "text/plain": [
       "'my name is gulab din'"
      ]
     },
     "execution_count": 1,
     "metadata": {},
     "output_type": "execute_result"
    }
   ],
   "source": [
    "zia = \"my name is gulab din\"\n",
    "zia"
   ]
  },
  {
   "cell_type": "code",
   "execution_count": null,
   "id": "c3c1af45",
   "metadata": {},
   "outputs": [],
   "source": []
  }
 ],
 "metadata": {
  "kernelspec": {
   "display_name": "Python 3 (ipykernel)",
   "language": "python",
   "name": "python3"
  },
  "language_info": {
   "codemirror_mode": {
    "name": "ipython",
    "version": 3
   },
   "file_extension": ".py",
   "mimetype": "text/x-python",
   "name": "python",
   "nbconvert_exporter": "python",
   "pygments_lexer": "ipython3",
   "version": "3.9.13"
  }
 },
 "nbformat": 4,
 "nbformat_minor": 5
}
